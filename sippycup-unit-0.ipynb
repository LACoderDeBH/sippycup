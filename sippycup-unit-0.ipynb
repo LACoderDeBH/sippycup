{
 "cells": [
  {
   "cell_type": "markdown",
   "metadata": {},
   "source": [
    "<img src=\"img/sippycup-small.jpg\" align=\"left\" style=\"padding-right: 30px\"/>\n",
    "\n",
    "<h1 style=\"line-height: 125%\">\n",
    "  SippyCup<br />\n",
    "  Unit 0: Introduction to semantic parsing\n",
    "</h1>\n",
    "\n",
    "<p>\n",
    "  <a href=\"http://nlp.stanford.edu/~wcmac/\">Bill MacCartney</a><br/>\n",
    "  March 2015\n",
    "  <!-- <a href=\"mailto:wcmac@cs.stanford.edu\">wcmac@cs.stanford.edu</a> -->\n",
    "</p>"
   ]
  },
  {
   "cell_type": "markdown",
   "metadata": {},
   "source": [
    "<div style=\"margin: 0px 0px; padding: 10px; background-color: #ddddff; border-style: solid; border-color: #aaaacc; border-width: 1px\">\n",
    "This is Unit 0 of the [SippyCup tutorial](sippycup-unit-0.ipynb).\n",
    "</div>"
   ]
  },
  {
   "cell_type": "markdown",
   "metadata": {},
   "source": [
    "SippyCup is a simple semantic parser, written in Python, created purely for didactic purposes. The design favors simplicity and readability over efficiency and performance.  The goal is to make semantic parsing look easy!\n",
    "\n",
    "SippyCup demonstrates an approach to semantic parsing based around:\n",
    "  - a context-free grammar with semantic attachments,\n",
    "  - a chart-parsing algorithm,\n",
    "  - a linear, feature-based scoring function for ranking candidate parses,\n",
    "  - learning of scoring parameters using stochastic gradient descent, and\n",
    "  - limited forms of grammar induction.\n",
    "\n",
    "We present applications of SippyCup to three different domains:\n",
    "  - natural language arithmetic: \"two times three plus four\"\n",
    "  - travel queries: \"driving directions to williamsburg virginia\"\n",
    "  - geographical queries: \"how many states border the largest state\"\n",
    "\n",
    "SippyCup was inspired by, and partly adapted from, the [demonstration code][] published as a companion to [Liang & Potts 2015][], \"Bringing machine learning and compositional semantics together\".  It was developed primarily for the benefit of students in Stanford's [CS224U: Natural Language Understanding], and therefore contains exercises (without solutions) for use in the class.  However, it should be of use to anyone interested in learning about semantic parsing.\n",
    "\n",
    "  [demonstration code]: https://github.com/cgpotts/annualreview-complearning\n",
    "  [Liang & Potts 2015]: http://www.annualreviews.org/doi/pdf/10.1146/annurev-linguist-030514-125312\n",
    "  [CS224U: Natural Language Understanding]: http://www.stanford.edu/class/cs224u/\n",
    "  \n",
    "SippyCup remains a work in progress, and you will find a number of TODOs throughout this notebook and the accompanying Python codebase.  You will likely also find errors!  You can help to contribute to SippyCup by sending corrections to [the author](mailto:wcmac@cs.stanford.edu) or by sending a pull request to the SippyCup [GitHub repository][].\n",
    "\n",
    "  [GitHub repository]: https://github.com/wcmac/sippycup"
   ]
  },
 ],
 "metadata": {
  "kernelspec": {
   "display_name": "Python 2",
   "language": "python",
   "name": "python2"
  },
  "language_info": {
   "codemirror_mode": {
    "name": "ipython",
    "version": 2
   },
   "file_extension": ".py",
   "mimetype": "text/x-python",
   "name": "python",
   "nbconvert_exporter": "python",
   "pygments_lexer": "ipython2",
   "version": "2.7.6"
  }
 },
 "nbformat": 4,
 "nbformat_minor": 0
}
