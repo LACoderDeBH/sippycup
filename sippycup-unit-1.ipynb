{
 "cells": [
  {
   "cell_type": "markdown",
   "metadata": {},
   "source": [
    "<img src=\"img/sippycup-small.jpg\" align=\"left\" style=\"padding-right: 30px\"/>\n",
    "\n",
    "<h1 style=\"line-height: 125%\">\n",
    "  SippyCup<br />\n",
    "  Unit 1: Natural language arithmetic\n",
    "</h1>\n",
    "\n",
    "<p>\n",
    "  <a href=\"http://nlp.stanford.edu/~wcmac/\">Bill MacCartney</a><br/>\n",
    "  Spring 2015\n",
    "  <!-- <a href=\"mailto:wcmac@cs.stanford.edu\">wcmac@cs.stanford.edu</a> -->\n",
    "</p>"
   ]
  },
  {
   "cell_type": "markdown",
   "metadata": {},
   "source": [
    "<div style=\"margin: 0px 0px; padding: 10px; background-color: #ddddff; border-style: solid; border-color: #aaaacc; border-width: 1px\">\n",
    "This is Unit 1 of the <a href=\"./sippycup-unit-0.ipynb\">SippyCup tutorial</a>.\n",
    "</div>"
   ]
  },
  {
   "cell_type": "markdown",
   "metadata": {
    "collapsed": true
   },
   "source": [
    "# COMING SOON"
   ]
  }
 ],
 "metadata": {
  "kernelspec": {
   "display_name": "Python 2",
   "language": "python",
   "name": "python2"
  },
  "language_info": {
   "codemirror_mode": {
    "name": "ipython",
    "version": 2
   },
   "file_extension": ".py",
   "mimetype": "text/x-python",
   "name": "python",
   "nbconvert_exporter": "python",
   "pygments_lexer": "ipython2",
   "version": "2.7.6"
  }
 },
 "nbformat": 4,
 "nbformat_minor": 0
}
